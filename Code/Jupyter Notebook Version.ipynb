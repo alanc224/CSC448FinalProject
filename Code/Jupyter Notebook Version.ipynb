{
 "cells": [
  {
   "cell_type": "code",
   "execution_count": 3,
   "id": "33b24685",
   "metadata": {},
   "outputs": [],
   "source": [
    "import numpy as np\n",
    "import pandas as pd\n",
    "from dotenv import load_dotenv\n",
    "import os\n",
    "import spotipy\n",
    "from sklearn.manifold import TSNE\n",
    "from spotipy.oauth2 import SpotifyClientCredentials\n",
    "import matplotlib.pyplot as plt\n",
    "import plotly.express as px\n",
    "\n",
    "import nltk\n",
    "from nltk import word_tokenize\n",
    "from nltk.stem import PorterStemmer\n",
    "from nltk.stem import WordNetLemmatizer\n",
    "from nltk.corpus import wordnet\n",
    "\n",
    "from sklearn.feature_extraction.text import TfidfVectorizer\n",
    "from sklearn.metrics.pairwise import cosine_similarity\n",
    "\n",
    "import string\n",
    "import re"
   ]
  },
  {
   "cell_type": "code",
   "execution_count": 4,
   "id": "4f0e280e",
   "metadata": {},
   "outputs": [],
   "source": [
    "load_dotenv()\n",
    "SPOTIFY_KEY1 = os.getenv('SPOTIFY_KEY1')\n",
    "SPOTIFY_KEY2 = os.getenv('SPOTIFY_KEY2')\n",
    "SPOTIFY_DATA = os.getenv('SPOTIFY_DATA')\n",
    "TCC_DATA = os.getenv('TCC_DATA')\n",
    "\n",
    "spotify = spotipy.Spotify(client_credentials_manager=SpotifyClientCredentials(SPOTIFY_KEY1,\n",
    "                                                                              SPOTIFY_KEY2))"
   ]
  },
  {
   "cell_type": "code",
   "execution_count": 6,
   "id": "dfd7a86a",
   "metadata": {},
   "outputs": [],
   "source": [
    "def getid(artist_name, song_name):\n",
    "    results = spotify.search(q=\"track\" + song_name + \"artist:\" + artist_name, type=\"track\", limit=1)\n",
    "\n",
    "    if \"tracks\" in results and \"items\" in results[\"tracks\"]:\n",
    "        return results[\"tracks\"][\"items\"][0][\"id\"]\n",
    "    else:\n",
    "        print(\"Track not found.\")\n",
    "        return None"
   ]
  },
  {
   "cell_type": "code",
   "execution_count": 7,
   "id": "0337ef2a",
   "metadata": {},
   "outputs": [],
   "source": [
    "def name_lookup(name, df):\n",
    "    lookup = df[df['artist_name'].str.lower() == name.lower()]\n",
    "\n",
    "    if not lookup.empty:\n",
    "        return name\n",
    "    else:\n",
    "        print(\"Artist not found\")\n",
    "        return False"
   ]
  },
  {
   "cell_type": "code",
   "execution_count": 8,
   "id": "0aa024b0",
   "metadata": {},
   "outputs": [],
   "source": [
    "def song_lookup(song, df):\n",
    "    lookup = df[df['track_name'].str.lower() == song.lower()]\n",
    "\n",
    "    if not lookup.empty:\n",
    "        return song\n",
    "    else:\n",
    "        print(\"Song not found.\")\n",
    "        return False"
   ]
  },
  {
   "cell_type": "code",
   "execution_count": 9,
   "id": "38d2e9b4",
   "metadata": {},
   "outputs": [],
   "source": [
    "def print_info(track):\n",
    "    print('\\nArtist: ' + track['artists'][0]['name'])\n",
    "    print('Track: ' + track['name'])\n",
    "    print('Album: ' + track['album']['name'])\n",
    "    print('Audio Preview: ' + track['preview_url'])\n",
    "    print('Cover Art: ' + track['album']['images'][0]['url'])"
   ]
  },
  {
   "cell_type": "code",
   "execution_count": null,
   "id": "bbd133be",
   "metadata": {},
   "outputs": [],
   "source": []
  }
 ],
 "metadata": {
  "kernelspec": {
   "display_name": "Python 3 (ipykernel)",
   "language": "python",
   "name": "python3"
  },
  "language_info": {
   "codemirror_mode": {
    "name": "ipython",
    "version": 3
   },
   "file_extension": ".py",
   "mimetype": "text/x-python",
   "name": "python",
   "nbconvert_exporter": "python",
   "pygments_lexer": "ipython3",
   "version": "3.9.13"
  }
 },
 "nbformat": 4,
 "nbformat_minor": 5
}
