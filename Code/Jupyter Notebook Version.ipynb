{
 "cells": [
  {
   "cell_type": "code",
   "execution_count": 3,
   "id": "f6a437a7",
   "metadata": {},
   "outputs": [],
   "source": [
    "import numpy as np\n",
    "import pandas as pd\n",
    "from dotenv import load_dotenv\n",
    "import os\n",
    "import spotipy\n",
    "from sklearn.manifold import TSNE\n",
    "from spotipy.oauth2 import SpotifyClientCredentials\n",
    "import matplotlib.pyplot as plt\n",
    "import plotly.express as px\n",
    "\n",
    "import nltk\n",
    "from nltk import word_tokenize\n",
    "from nltk.stem import PorterStemmer\n",
    "from nltk.stem import WordNetLemmatizer\n",
    "from nltk.corpus import wordnet\n",
    "\n",
    "from sklearn.feature_extraction.text import TfidfVectorizer\n",
    "from sklearn.metrics.pairwise import cosine_similarity\n",
    "\n",
    "import string\n",
    "import re"
   ]
  },
  {
   "cell_type": "code",
   "execution_count": 4,
   "id": "201ec890",
   "metadata": {},
   "outputs": [],
   "source": [
    "load_dotenv()\n",
    "SPOTIFY_KEY1 = os.getenv('SPOTIFY_KEY1')\n",
    "SPOTIFY_KEY2 = os.getenv('SPOTIFY_KEY2')\n",
    "SPOTIFY_DATA = os.getenv('SPOTIFY_DATA')\n",
    "TCC_DATA = os.getenv('TCC_DATA')\n",
    "\n",
    "spotify = spotipy.Spotify(client_credentials_manager=SpotifyClientCredentials(SPOTIFY_KEY1,\n",
    "                                                                              SPOTIFY_KEY2))"
   ]
  },
  {
   "cell_type": "code",
   "execution_count": 6,
   "id": "5daf7d29",
   "metadata": {},
   "outputs": [],
   "source": [
    "def getid(artist_name, song_name):\n",
    "    results = spotify.search(q=\"track\" + song_name + \"artist:\" + artist_name, type=\"track\", limit=1)\n",
    "\n",
    "    if \"tracks\" in results and \"items\" in results[\"tracks\"]:\n",
    "        return results[\"tracks\"][\"items\"][0][\"id\"]\n",
    "    else:\n",
    "        print(\"Track not found.\")\n",
    "        return None"
   ]
  },
  {
   "cell_type": "code",
   "execution_count": 7,
   "id": "87cb6f93",
   "metadata": {},
   "outputs": [],
   "source": [
    "def name_lookup(name, df):\n",
    "    lookup = df[df['artist_name'].str.lower() == name.lower()]\n",
    "\n",
    "    if not lookup.empty:\n",
    "        return name\n",
    "    else:\n",
    "        print(\"Artist not found\")\n",
    "        return False"
   ]
  },
  {
   "cell_type": "code",
   "execution_count": 8,
   "id": "b9efe1b7",
   "metadata": {},
   "outputs": [],
   "source": [
    "def song_lookup(song, df):\n",
    "    lookup = df[df['track_name'].str.lower() == song.lower()]\n",
    "\n",
    "    if not lookup.empty:\n",
    "        return song\n",
    "    else:\n",
    "        print(\"Song not found.\")\n",
    "        return False"
   ]
  },
  {
   "cell_type": "code",
   "execution_count": 9,
   "id": "fefd10a6",
   "metadata": {},
   "outputs": [],
   "source": [
    "def print_info(track):\n",
    "    print('\\nArtist: ' + track['artists'][0]['name'])\n",
    "    print('Track: ' + track['name'])\n",
    "    print('Album: ' + track['album']['name'])\n",
    "    print('Audio Preview: ' + track['preview_url'])\n",
    "    print('Cover Art: ' + track['album']['images'][0]['url'])"
   ]
  },
  {
   "cell_type": "code",
   "execution_count": 10,
   "id": "4ec86ece",
   "metadata": {},
   "outputs": [],
   "source": [
    "def main():\n",
    "    df = pd.read_csv(TCC_DATA)\n",
    "    df.drop_duplicates(subset=['track_name'], keep='first', inplace=True)\n",
    "    df.drop(columns=['release_date', 'lyrics'], axis=1, inplace=True)\n",
    "    # print(df.columns)\n",
    "\n",
    "    ''' Konrad --- testing if .env variables work, they do :)\n",
    "    #               make sure your path variables are good if you run into any errors\n",
    "    df_spotify = pd.read_csv(SPOTIFY_DATA)\n",
    "    print(df_spotify.head(10))\n",
    "    print(df_spotify.columns)\n",
    "    '''\n",
    "\n",
    "    '''Testing spotify api, works so far\n",
    "    found = False\n",
    "    while not found:\n",
    "        artist_name = input(\"Enter artist name: \")\n",
    "        if name_lookup(artist_name, df):\n",
    "            found = True\n",
    "\n",
    "    found = False\n",
    "    while not found:\n",
    "        song_name = input(\"Enter song name: \")\n",
    "        if song_lookup(song_name, df):\n",
    "            found = True\n",
    "\n",
    "    track_id = getid(artist_name, song_name)\n",
    "\n",
    "    track = spotify.track(track_id)\n",
    "    print_info(track)\n",
    "    '''\n",
    "\n",
    "# Preprocessing the lyrics\n",
    "\n",
    "    lyrics_df = pd.read_csv(TCC_DATA)\n",
    "    lyrics_df = lyrics_df.iloc[:, [0,1,2,5,6]] \n",
    "    print(lyrics_df.columns)\n",
    "\n",
    "    # checked the data and there are no nulls or duplicates\n",
    "\n",
    "    # print(len(lyrics_df))\n",
    "    # print(lyrics_df.isnull().sum())\n",
    "    # print(lyrics_df)\n",
    "    # print(lyrics_df.duplicated().sum())\n",
    "\n",
    "    lyrics_df.drop_duplicates(inplace=True)\n",
    "    lyrics_df.dropna(inplace=True) # just in case\n",
    "    \n",
    "    def pipline(somestring):\n",
    "\n",
    "        somestring = somestring.lower() #make lowercase\n",
    "        somestring = re.sub(r'[^\\w\\s]','',somestring) #remove punctuation\n",
    "        new_string=re.sub('[^a-zA-Z0-9]',' ',somestring) # takes only alphanumeric values\n",
    "        somestring=re.sub('\\s+',' ',new_string) # removes extra characters like extra spaces\n",
    "\n",
    "        return somestring\n",
    "\n",
    "    lyrics_df['cleaned'] = lyrics_df['lyrics'].apply(pipline)\n",
    "\n",
    "    # print(lyrics_df['cleaned'][0])\n",
    "    #\n",
    "\n",
    "    # to have more data going to assign numbers to genre data\n",
    "    genres = df['genre'].unique()  # need to assign unique elements in genre column a number for analysis later\n",
    "    # print(genres)\n",
    "    # mapping genres for kmeans later\n",
    "    genre_mapping = {'pop': 1, 'country': 2, 'blues': 3, 'rock': 4, 'jazz': 5, 'reggae': 6, 'hip hop': 7}\n",
    "    df['genre_mapping'] = df['genre'].map(genre_mapping)\n",
    "    # print(df.columns)\n",
    "    # print(df['genre_mapping'])\n",
    "\n",
    "    # now to do the same with topic column\n",
    "    topics = df['topic'].unique()  # need to assign unique elements in genre column a number for analysis later\n",
    "    # print(topics)\n",
    "    # mapping topics for kmeans later\n",
    "    topic_mapping = {'sadness': 1, 'world/life': 2, 'music': 3, 'romantic': 4, 'violence': 5, 'obscene': 6,\n",
    "                     'night/time': 7, 'feelings': 8}\n",
    "    df['topic_mapping'] = df['topic'].map(topic_mapping)\n",
    "    # print(df.columns)\n",
    "    # print(df['topic_mapping'])\n",
    "\n",
    "    # making new dataframe with relevant columns\n",
    "    df_relevant_columns = df.drop(columns=['artist_name', 'track_name', 'len', 'genre', 'topic'], axis=1)\n",
    "    # print(df_relevant_columns.columns)\n",
    "    # print(df_relevant_columns)\n",
    "\n",
    "    tsne = TSNE(n_components=2, verbose=1, perplexity=40, n_iter=500)\n",
    "    tsne_data = tsne.fit_transform(df_relevant_columns.sample(n=500))\n",
    "    plt.figure()\n",
    "    plt.scatter(tsne_data[:, 0], tsne_data[:, 1],alpha=1.0)\n",
    "    plt.show()\n",
    "\n",
    "    # plot = px.scatter(tsne_data[:, 0], tsne_data[:, 1])\n",
    "    # plot.show()"
   ]
  },
  {
   "cell_type": "code",
   "execution_count": 14,
   "id": "ec99f38e",
   "metadata": {},
   "outputs": [
    {
     "name": "stdout",
     "output_type": "stream",
     "text": [
      "Index(['Unnamed: 0', 'artist_name', 'track_name', 'lyrics', 'len'], dtype='object')\n"
     ]
    },
    {
     "name": "stderr",
     "output_type": "stream",
     "text": [
      "/opt/anaconda3/lib/python3.9/site-packages/sklearn/manifold/_t_sne.py:795: FutureWarning: The default initialization in TSNE will change from 'random' to 'pca' in 1.2.\n",
      "  warnings.warn(\n",
      "/opt/anaconda3/lib/python3.9/site-packages/sklearn/manifold/_t_sne.py:805: FutureWarning: The default learning rate in TSNE will change from 200.0 to 'auto' in 1.2.\n",
      "  warnings.warn(\n"
     ]
    },
    {
     "name": "stdout",
     "output_type": "stream",
     "text": [
      "[t-SNE] Computing 121 nearest neighbors...\n",
      "[t-SNE] Indexed 500 samples in 0.000s...\n",
      "[t-SNE] Computed neighbors for 500 samples in 0.007s...\n",
      "[t-SNE] Computed conditional probabilities for sample 500 / 500\n",
      "[t-SNE] Mean sigma: 2280.330359\n",
      "[t-SNE] KL divergence after 250 iterations with early exaggeration: 46.795250\n",
      "[t-SNE] KL divergence after 500 iterations: 0.149570\n"
     ]
    },
    {
     "data": {
      "image/png": "[encoded data removed]",
      "text/plain": [
       "<Figure size 640x480 with 1 Axes>"
      ]
     },
     "metadata": {},
     "output_type": "display_data"
    }
   ],
   "source": [
    "if __name__ == '__main__':\n",
    "    main()"
   ]
  },
  {
   "cell_type": "code",
   "execution_count": null,
   "id": "783053cb",
   "metadata": {},
   "outputs": [],
   "source": []
  }
 ],
 "metadata": {
  "kernelspec": {
   "display_name": "Python 3 (ipykernel)",
   "language": "python",
   "name": "python3"
  },
  "language_info": {
   "codemirror_mode": {
    "name": "ipython",
    "version": 3
   },
   "file_extension": ".py",
   "mimetype": "text/x-python",
   "name": "python",
   "nbconvert_exporter": "python",
   "pygments_lexer": "ipython3",
   "version": "3.9.13"
  }
 },
 "nbformat": 4,
 "nbformat_minor": 5
}
